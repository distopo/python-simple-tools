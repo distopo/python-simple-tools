{
 "cells": [
  {
   "cell_type": "code",
   "execution_count": 8,
   "metadata": {},
   "outputs": [
    {
     "name": "stdout",
     "output_type": "stream",
     "text": [
      "4.10.0\n",
      "Saved frame 0\n",
      "Saved frame 60\n",
      "Saved frame 120\n",
      "Saved frame 180\n",
      "Saved frame 240\n",
      "Saved frame 300\n",
      "Saved frame 360\n",
      "Saved frame 420\n",
      "Saved frame 480\n",
      "Saved frame 540\n",
      "Saved frame 600\n",
      "Saved frame 660\n",
      "Saved frame 720\n",
      "Saved frame 780\n",
      "Saved frame 840\n",
      "Saved frame 900\n",
      "Saved frame 960\n",
      "Saved frame 1020\n",
      "Saved frame 1080\n",
      "Saved frame 1140\n",
      "Saved frame 1200\n",
      "Saved frame 1260\n",
      "Saved frame 1320\n",
      "Saved frame 1380\n",
      "Saved frame 1440\n",
      "Saved frame 1500\n",
      "Saved frame 1560\n",
      "Saved frame 1620\n",
      "Saved frame 1680\n",
      "29 images are extracted in output_frames.\n"
     ]
    }
   ],
   "source": [
    "import cv2\n",
    "import os\n",
    "\n",
    "print(cv2.__version__)  # Checking OpenCV version\n",
    "file_path = \"/Users/antonwenemoser/code/distopo/video-test/videos-raw/Movie on 5-9-24 at 14.33.mov\"\n",
    "folder = 'output_frames'  # Directory to save frames\n",
    "if not os.path.exists(folder):\n",
    "    os.makedirs(folder)\n",
    "\n",
    "vidcap = cv2.VideoCapture(file_path)\n",
    "frame_skip = 60  # Save every n frame\n",
    "saved_count = 0\n",
    "count = 0\n",
    "\n",
    "# Get total number of frames (optional, to display progress or debug)\n",
    "total_frames = int(vidcap.get(cv2.CAP_PROP_FRAME_COUNT))\n",
    "\n",
    "# Loop over frames, skipping and saving accordingly\n",
    "while True:\n",
    "    success, image = vidcap.read()\n",
    "    if not success:\n",
    "        break\n",
    "\n",
    "    # Save every 30th frame\n",
    "    if count % frame_skip == 0:\n",
    "        cv2.imwrite(os.path.join(folder, \"5-9-24-14-33__{:d}.jpg\".format(count)), image)\n",
    "        print(f\"Saved frame {count}\")\n",
    "        saved_count += 1\n",
    "\n",
    "    count += 1  # Increment the frame counter\n",
    "\n",
    "print(f\"{saved_count} images are extracted in {folder}.\")\n"
   ]
  }
 ],
 "metadata": {
  "kernelspec": {
   "display_name": "lewagon",
   "language": "python",
   "name": "python3"
  },
  "language_info": {
   "codemirror_mode": {
    "name": "ipython",
    "version": 3
   },
   "file_extension": ".py",
   "mimetype": "text/x-python",
   "name": "python",
   "nbconvert_exporter": "python",
   "pygments_lexer": "ipython3",
   "version": "3.10.6"
  }
 },
 "nbformat": 4,
 "nbformat_minor": 2
}
